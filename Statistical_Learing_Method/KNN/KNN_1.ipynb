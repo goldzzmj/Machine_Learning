{
 "cells": [
  {
   "cell_type": "code",
   "execution_count": 13,
   "id": "d8b91a40",
   "metadata": {},
   "outputs": [
    {
     "name": "stdout",
     "output_type": "stream",
     "text": [
      "最短距离： 4\n",
      "最短距离点的下标： 1\n"
     ]
    }
   ],
   "source": [
    "import numpy as np\n",
    "\n",
    "x=np.array([[1,1],[5,1],[4,4]])\n",
    "\n",
    "def distance_L1(x,x1):\n",
    "    res=0\n",
    "    dis=np.abs(x-x1)\n",
    "    for i in range(len(dis)):\n",
    "        res+=dis[i]\n",
    "    return res\n",
    "\n",
    "x1,x2,x3=x[0],x[1],x[2]\n",
    "\n",
    "import sys\n",
    "\n",
    "min_distance=sys.maxsize\n",
    "min_idx=0\n",
    "for i in range(1,len(x)):\n",
    "    if distance_L1(x1,x[i])<min_distance:\n",
    "        min_distance=distance_L1(x1,x[i])\n",
    "        min_idx=i\n",
    "\n",
    "print('最短距离：',min_distance)\n",
    "print('最短距离点的下标：',min_idx)\n",
    "    "
   ]
  },
  {
   "cell_type": "code",
   "execution_count": null,
   "id": "bc36d191",
   "metadata": {},
   "outputs": [],
   "source": []
  }
 ],
 "metadata": {
  "kernelspec": {
   "display_name": "tensorflow_env",
   "language": "python",
   "name": "tensorflow_env"
  },
  "language_info": {
   "codemirror_mode": {
    "name": "ipython",
    "version": 3
   },
   "file_extension": ".py",
   "mimetype": "text/x-python",
   "name": "python",
   "nbconvert_exporter": "python",
   "pygments_lexer": "ipython3",
   "version": "3.9.12"
  }
 },
 "nbformat": 4,
 "nbformat_minor": 5
}
